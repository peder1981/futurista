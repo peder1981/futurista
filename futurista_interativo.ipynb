# ⚙️ Instalar dependências (se necessário)
# !pip install pandas world_bank_data pycountry plotly ipywidgets

import pandas as pd
import world_bank_data as wb
import pycountry
import plotly.express as px
import ipywidgets as widgets
from IPython.display import display, Markdown

# 🔍 Função para obter código ISO3 e nome oficial
def get_country_info(name):
    try:
        country = pycountry.countries.lookup(name)
        return pd.Series([country.alpha_3, country.name])
    except:
        return pd.Series([None, name])

# 📦 Carregar dados uma vez
inflation = wb.get_series("FP.CPI.TOTL.ZG", date="1990:2023", id_or_value="id").reset_index()
interest = wb.get_series("FR.INR.RINR", date="1990:2023", id_or_value="id").reset_index()
merged = pd.merge(inflation, interest, on=["Country", "Year"], how="inner")
merged.rename(columns={
    "Country": "country_raw",
    "Year": "year",
    "FP.CPI.TOTL.ZG": "inflation",
    "FR.INR.RINR": "interest"
}, inplace=True)
merged[["iso3", "country"]] = merged["country_raw"].apply(get_country_info)
merged["ratio"] = merged["interest"] / merged["inflation"]
merged = merged[(merged["ratio"].notna()) & (merged["iso3"].notna()) & (merged["inflation"] > 0)]

# 🎛️ Widget de seleção de ano
anos_disponiveis = sorted(merged["year"].unique(), reverse=True)
ano_widget = widgets.Dropdown(options=anos_disponiveis, description="Ano:")

# 📤 Função principal
def atualizar_analise(ano):
    df = merged[merged["year"] == ano]
    top10 = df.sort_values("ratio", ascending=False).head(10)

    # Tabela Markdown
    md = f"## 🏆 Top 10 países com maior razão juros/inflação — {ano}\n\n"
    md += "| País | ISO3 | Juros (%) | Inflação (%) | Razão |\n"
    md += "|------|------|------------|----------------|--------|\n"
    for _, row in top10.iterrows():
        md += f"| {row['country']} | {row['iso3']} | {row['interest']:.2f} | {row['inflation']:.2f} | {row['ratio']:.2f} |\n"
    display(Markdown(md))

    # Mapa
    fig = px.choropleth(
        df,
        locations="iso3",
        color="ratio",
        hover_name="country",
        color_continuous_scale="Viridis",
        title=f"🌐 Relação Juros Reais / Inflação — {ano}",
        labels={"ratio": "Juros / Inflação"}
    )
    fig.update_geos(showframe=False, showcoastlines=False)
    fig.update_layout(margin={"r":0,"t":50,"l":0,"b":0})
    fig.show()

    # Exportações
    top10[["country", "iso3", "year", "interest", "inflation", "ratio"]].to_csv(f"top10_{ano}.csv", index=False)
    with open(f"relatorio_{ano}.md", "w", encoding="utf-8") as f:
        f.write(md)
    print(f"📁 Arquivos exportados: top10_{ano}.csv e relatorio_{ano}.md")

# 🔄 Conectar widget à função
widgets.interact(atualizar_analise, ano=ano_widget)

